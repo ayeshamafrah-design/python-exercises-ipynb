{
 "cells": [
  {
   "cell_type": "markdown",
   "id": "44619ef7-825a-4a6a-9300-88e990ea72c7",
   "metadata": {},
   "source": [
    "**Assign the value 7 to the variable `guess_me`. Then, write the conditional tests (`if`, `else`, and `elif`) to print the string `too low` if `guess_me` is less than 7, `too high` if greater than 7, and `just right` if equal to 7.**"
   ]
  },
  {
   "cell_type": "code",
   "execution_count": 1,
   "id": "0289359a-b5bd-422d-9b3a-6ff2dda40d23",
   "metadata": {},
   "outputs": [
    {
     "name": "stdout",
     "output_type": "stream",
     "text": [
      "just right\n"
     ]
    }
   ],
   "source": [
    "guess_me = 7\n",
    "\n",
    "if guess_me < 7:\n",
    "    print(\"too low\")\n",
    "elif guess_me > 7:\n",
    "    print(\"too high\")\n",
    "else:\n",
    "    print(\"just right\")"
   ]
  },
  {
   "cell_type": "markdown",
   "id": "9106e1f1-c056-48d5-a4ea-1f0342b1a88e",
   "metadata": {},
   "source": [
    "**Assign the value 7 to the variable `guess_me` and the value 1 to the variable `start`. Write a `while` loop that compares `start` with `guess_me`. Print `too low` if `start` is less than `guess_me`. If `start` equals `guess_me`, print `found it!` and exit the loop. If `start` is greater than `guess_me`, print `oops` and exit the loop. Increment `start` at the end of the loop.**"
   ]
  },
  {
   "cell_type": "code",
   "execution_count": 2,
   "id": "f2b36f00-51c5-47a1-b13b-810c6f53362b",
   "metadata": {},
   "outputs": [
    {
     "name": "stdout",
     "output_type": "stream",
     "text": [
      "too low\n",
      "too low\n",
      "too low\n",
      "too low\n",
      "too low\n",
      "too low\n",
      "found it!\n"
     ]
    }
   ],
   "source": [
    "guess_me = 7\n",
    "start = 1\n",
    "\n",
    "while True:\n",
    "    if start < guess_me:\n",
    "        print(\"too low\")\n",
    "    elif start == guess_me:\n",
    "        print(\"found it!\")\n",
    "        break\n",
    "    else:\n",
    "        print(\"oops\")\n",
    "        break\n",
    "    start += 1\n"
   ]
  },
  {
   "cell_type": "markdown",
   "id": "66d83423-2f0d-4dea-99de-a4a833741da7",
   "metadata": {},
   "source": [
    "**Print the following values of the list `[3, 2, 1, 0]` using a `for` loop**"
   ]
  },
  {
   "cell_type": "code",
   "execution_count": 3,
   "id": "226e6892-6a0c-42db-815c-e8492c8aef94",
   "metadata": {},
   "outputs": [
    {
     "name": "stdout",
     "output_type": "stream",
     "text": [
      "3\n",
      "2\n",
      "1\n",
      "0\n"
     ]
    }
   ],
   "source": [
    "for value in [3, 2, 1, 0]:\n",
    "    print(value)"
   ]
  },
  {
   "cell_type": "markdown",
   "id": "d976f430-80d4-45d3-8135-286457d37fcb",
   "metadata": {},
   "source": [
    "**Use a list comprehension to make a list of the even numbers in `range(10)`.**"
   ]
  },
  {
   "cell_type": "code",
   "execution_count": 4,
   "id": "3e0c2166-33b1-42f9-a914-ed083631b8c2",
   "metadata": {},
   "outputs": [
    {
     "name": "stdout",
     "output_type": "stream",
     "text": [
      "[0, 2, 4, 6, 8]\n"
     ]
    }
   ],
   "source": [
    "even_numbers = [num for num in range(10) if num % 2 == 0]\n",
    "print(even_numbers)"
   ]
  },
  {
   "cell_type": "markdown",
   "id": "bfa5df7e-95fc-4fe3-bc7a-3e0ab099ce77",
   "metadata": {},
   "source": [
    "**Use a dictionary comprehension to create the dictionary `squares`. Use `range(10)` to return the keys, and use the square of each key as its value.**"
   ]
  },
  {
   "cell_type": "code",
   "execution_count": 5,
   "id": "4354d2f8-9f03-4fd0-9541-3034fb60023f",
   "metadata": {},
   "outputs": [
    {
     "name": "stdout",
     "output_type": "stream",
     "text": [
      "{0: 0, 1: 1, 2: 4, 3: 9, 4: 16, 5: 25, 6: 36, 7: 49, 8: 64, 9: 81}\n"
     ]
    }
   ],
   "source": [
    "squares = {num: num**2 for num in range(10)}\n",
    "print(squares)"
   ]
  },
  {
   "cell_type": "markdown",
   "id": "860b1b24-aefe-4d24-87dc-a050531206a9",
   "metadata": {},
   "source": [
    "**Construct the set `odd` from the odd numbers in the range using a set comprehension (`range(10)`).**"
   ]
  },
  {
   "cell_type": "code",
   "execution_count": 7,
   "id": "f0cea735-945b-42b0-aa7e-194bd290112f",
   "metadata": {},
   "outputs": [
    {
     "name": "stdout",
     "output_type": "stream",
     "text": [
      "{1, 3, 5, 7, 9}\n"
     ]
    }
   ],
   "source": [
    "odd = {num for num in range(10) if num % 2 != 0}\n",
    "print(odd)"
   ]
  },
  {
   "cell_type": "markdown",
   "id": "655c3df9-905c-4f53-a2e9-a602e377e246",
   "metadata": {},
   "source": [
    "**Use a generator comprehension to return the string `'Got '` and a number for the numbers in `range(10)`. Iterate through this by using a `for` loop.**"
   ]
  },
  {
   "cell_type": "code",
   "execution_count": 8,
   "id": "875352ac-d9b2-4740-b3bb-42bd85a5751e",
   "metadata": {},
   "outputs": [
    {
     "name": "stdout",
     "output_type": "stream",
     "text": [
      "Got 0\n",
      "Got 1\n",
      "Got 2\n",
      "Got 3\n",
      "Got 4\n",
      "Got 5\n",
      "Got 6\n",
      "Got 7\n",
      "Got 8\n",
      "Got 9\n"
     ]
    }
   ],
   "source": [
    "generator = (f\"Got {num}\" for num in range(10))\n",
    "\n",
    "for item in generator:\n",
    "    print(item)"
   ]
  },
  {
   "cell_type": "markdown",
   "id": "e5353110-0c2a-41d6-bb5b-4c296b0bd50a",
   "metadata": {},
   "source": [
    "**Define a function called `good` that returns the list `['Harry', 'Ron', 'Hermione']`.**"
   ]
  },
  {
   "cell_type": "code",
   "execution_count": 9,
   "id": "5823231f-6a47-4b52-8439-255e207ef3c0",
   "metadata": {},
   "outputs": [
    {
     "name": "stdout",
     "output_type": "stream",
     "text": [
      "['Harry', 'Ron', 'Hermione']\n"
     ]
    }
   ],
   "source": [
    "def good():\n",
    "    return ['Harry', 'Ron', 'Hermione']\n",
    "\n",
    "print(good())"
   ]
  },
  {
   "cell_type": "markdown",
   "id": "13aa54fc-115a-4961-905c-cb41be6aa9de",
   "metadata": {},
   "source": [
    "**Define a function called `good` that returns the list `['Harry', 'Ron', 'Hermione']`.**"
   ]
  },
  {
   "cell_type": "code",
   "execution_count": 10,
   "id": "769a00d8-3b5c-47a7-8a2d-2ecb2ed2e8e8",
   "metadata": {},
   "outputs": [
    {
     "name": "stdout",
     "output_type": "stream",
     "text": [
      "['Harry', 'Ron', 'Hermione']\n"
     ]
    }
   ],
   "source": [
    "def good():\n",
    "    return ['Harry', 'Ron', 'Hermione']\n",
    "\n",
    "print(good())"
   ]
  },
  {
   "cell_type": "markdown",
   "id": "c1c8f32e-4ac9-4531-9b27-c5e1c9c98a13",
   "metadata": {},
   "source": [
    "**Define a generator function called get_odds that returns the odd numbers from range(10).Use a\n",
    "for loop to find and print the third value returned.**"
   ]
  },
  {
   "cell_type": "code",
   "execution_count": 11,
   "id": "71a5d10e-8ed7-4620-bdea-872385d15854",
   "metadata": {},
   "outputs": [
    {
     "name": "stdout",
     "output_type": "stream",
     "text": [
      "The third odd number is: 5\n"
     ]
    }
   ],
   "source": [
    "def get_odds():\n",
    "    for number in range(10):\n",
    "        if number % 2 != 0:\n",
    "            yield number\n",
    "\n",
    "# Using a for loop to get the third value\n",
    "odd_numbers = get_odds()\n",
    "third_odd = None\n",
    "for i, value in enumerate(odd_numbers, 1):\n",
    "    if i == 3:\n",
    "        third_odd = value\n",
    "        break\n",
    "\n",
    "print(\"The third odd number is:\", third_odd)"
   ]
  },
  {
   "cell_type": "markdown",
   "id": "a721b6ee-26c3-4c83-b73f-56e2f1f9974e",
   "metadata": {},
   "source": [
    "**Define an exception called OopsException. Raise this exception to see what happens.**"
   ]
  },
  {
   "cell_type": "code",
   "execution_count": 13,
   "id": "588ff11f-a7f7-4ca7-a947-d70bfd151754",
   "metadata": {},
   "outputs": [
    {
     "name": "stdout",
     "output_type": "stream",
     "text": [
      "Caught an oops: Something went wrong!\n"
     ]
    }
   ],
   "source": [
    "class OopsException(Exception):\n",
    "    pass\n",
    "try:\n",
    "    raise OopsException(\"Something went wrong!\")\n",
    "except OopsException as e:\n",
    "    print(\"Caught an oops:\", e)"
   ]
  },
  {
   "cell_type": "markdown",
   "id": "3684513f-bc94-4f65-a485-8fa35c32e995",
   "metadata": {},
   "source": [
    "**Use zip() to make a dictionary called movies that pairs these lists: \n",
    "titles = ['Creature of Habit', 'Crewel Fate'] and plots = ['A nun turns into a monster', 'A haunted yarn shop'].**"
   ]
  },
  {
   "cell_type": "code",
   "execution_count": 14,
   "id": "4f7bc3a2-185f-4599-b370-3e6ba5d4cd32",
   "metadata": {},
   "outputs": [
    {
     "name": "stdout",
     "output_type": "stream",
     "text": [
      "{'Creature of Habit': 'A nun turns into a monster', 'Crewel Fate': 'A haunted yarn shop'}\n"
     ]
    }
   ],
   "source": [
    "titles = ['Creature of Habit', 'Crewel Fate']\n",
    "plots = ['A nun turns into a monster', 'A haunted yarn shop']\n",
    "\n",
    "movies = dict(zip(titles, plots))\n",
    "print(movies)"
   ]
  }
 ],
 "metadata": {
  "kernelspec": {
   "display_name": "Python 3 (ipykernel)",
   "language": "python",
   "name": "python3"
  },
  "language_info": {
   "codemirror_mode": {
    "name": "ipython",
    "version": 3
   },
   "file_extension": ".py",
   "mimetype": "text/x-python",
   "name": "python",
   "nbconvert_exporter": "python",
   "pygments_lexer": "ipython3",
   "version": "3.11.5"
  }
 },
 "nbformat": 4,
 "nbformat_minor": 5
}
